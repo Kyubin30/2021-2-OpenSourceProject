{
 "cells": [
  {
   "cell_type": "code",
   "execution_count": 6,
   "id": "5f297c14",
   "metadata": {},
   "outputs": [
    {
     "data": {
      "text/plain": [
       "[<matplotlib.lines.Line2D at 0x1936a2320d0>]"
      ]
     },
     "execution_count": 6,
     "metadata": {},
     "output_type": "execute_result"
    },
    {
     "data": {
      "image/png": "[encoded data removed]",
      "text/plain": [
       "<Figure size 432x288 with 1 Axes>"
      ]
     },
     "metadata": {
      "needs_background": "light"
     },
     "output_type": "display_data"
    }
   ],
   "source": [
    "import pandas as pd\n",
    "import numpy as np\n",
    "from sklearn.linear_model import LinearRegression\n",
    "import matplotlib.pyplot as plt\n",
    "\n",
    "df = pd.read_csv('common_passwords.csv', sep=',')\n",
    "df['charInLength'] = df['num_chars'] / df['length']\n",
    "df['upperInChar'] = df['num_upper'] / df['num_chars']\n",
    "dfMean = df.groupby('length').mean()\n",
    "plt.plot(dfMean['upperInChar'])\n",
    "#from matplotlib import pyplot as plt\n",
    "\n",
    "X = np.array(df['length']).reshape(-1,1)\n",
    "y = df['num_chars']\n",
    "lr = LinearRegression()\n",
    "lr.fit(X, y)\n",
    "\n",
    "w = lr.coef_[0]\n",
    "\n",
    "plt.scatter(X, y, s=1)\n",
    "plt.plot(X, w*X, c='red')"
   ]
  },
  {
   "cell_type": "code",
   "execution_count": null,
   "id": "dc1045e5",
   "metadata": {},
   "outputs": [],
   "source": []
  }
 ],
 "metadata": {
  "kernelspec": {
   "display_name": "Python 3",
   "language": "python",
   "name": "python3"
  },
  "language_info": {
   "codemirror_mode": {
    "name": "ipython",
    "version": 3
   },
   "file_extension": ".py",
   "mimetype": "text/x-python",
   "name": "python",
   "nbconvert_exporter": "python",
   "pygments_lexer": "ipython3",
   "version": "3.8.8"
  }
 },
 "nbformat": 4,
 "nbformat_minor": 5
}
